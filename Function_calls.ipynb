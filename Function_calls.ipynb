{
  "nbformat": 4,
  "nbformat_minor": 0,
  "metadata": {
    "colab": {
      "provenance": [],
      "authorship_tag": "ABX9TyMnv/qZyS5gy0q0YPnYJ6an",
      "include_colab_link": true
    },
    "kernelspec": {
      "name": "python3",
      "display_name": "Python 3"
    },
    "language_info": {
      "name": "python"
    }
  },
  "cells": [
    {
      "cell_type": "markdown",
      "metadata": {
        "id": "view-in-github",
        "colab_type": "text"
      },
      "source": [
        "<a href=\"https://colab.research.google.com/github/C0rtezJerryyan/CPE-21A-PLD-1-2/blob/main/Function_calls.ipynb\" target=\"_parent\"><img src=\"https://colab.research.google.com/assets/colab-badge.svg\" alt=\"Open In Colab\"/></a>"
      ]
    },
    {
      "cell_type": "markdown",
      "source": [
        "Function Calls Exercise"
      ],
      "metadata": {
        "id": "htiSMtsVpkCW"
      }
    },
    {
      "cell_type": "code",
      "source": [
        "a = min([2, 3, 4]) #a\n",
        "print(a)\n",
        "\n",
        "b = max(2, -3, 4, 7, -5) #B\n",
        "print(b)\n",
        "\n",
        "c = max (2, -3, min(4, 7), -5) #c\n",
        "print(c)"
      ],
      "metadata": {
        "colab": {
          "base_uri": "https://localhost:8080/"
        },
        "id": "UahxqkQCqq9F",
        "outputId": "d0af9652-326e-4031-8669-6e7ca093d2f9"
      },
      "execution_count": 7,
      "outputs": [
        {
          "output_type": "stream",
          "name": "stdout",
          "text": [
            "2\n",
            "7\n",
            "4\n"
          ]
        }
      ]
    }
  ]
}