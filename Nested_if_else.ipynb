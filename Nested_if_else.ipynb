{
  "nbformat": 4,
  "nbformat_minor": 0,
  "metadata": {
    "colab": {
      "provenance": [],
      "include_colab_link": true
    },
    "kernelspec": {
      "name": "python3",
      "display_name": "Python 3"
    },
    "language_info": {
      "name": "python"
    }
  },
  "cells": [
    {
      "cell_type": "markdown",
      "metadata": {
        "id": "view-in-github",
        "colab_type": "text"
      },
      "source": [
        "<a href=\"https://colab.research.google.com/github/C0rtezJerryyan/CPE-21A-PLD-1-2/blob/main/Nested_if_else.ipynb\" target=\"_parent\"><img src=\"https://colab.research.google.com/assets/colab-badge.svg\" alt=\"Open In Colab\"/></a>"
      ]
    },
    {
      "cell_type": "markdown",
      "source": [
        "Nested If else"
      ],
      "metadata": {
        "id": "bOuLffSqfG5_"
      }
    },
    {
      "cell_type": "code",
      "execution_count": null,
      "metadata": {
        "id": "53frrqkRd0AG",
        "outputId": "671befa8-f965-487e-aaff-8cbe93559d15",
        "colab": {
          "base_uri": "https://localhost:8080/"
        }
      },
      "outputs": [
        {
          "output_type": "stream",
          "name": "stdout",
          "text": [
            "above ten\n",
            "above twenty\n",
            "above thirty\n",
            "above forty\n",
            "below fifty\n"
          ]
        }
      ],
      "source": [
        "x = 41\n",
        "if x>10:\n",
        "    print(\"above ten\")\n",
        "    if x>20:\n",
        "      print(\"above twenty\")\n",
        "    else:\n",
        "      print(\"below twenty\")\n",
        "    if x>30:\n",
        "      print(\"above thirty\")\n",
        "    else:\n",
        "      print(\"below thirty\")\n",
        "    if x>40:\n",
        "      print(\"above forty\")\n",
        "    else:\n",
        "      print(\"below forty\")\n",
        "    if x>50:\n",
        "      print(\"above fifty\")\n",
        "    else:\n",
        "      print(\"below fifty\")\n",
        "else:\n",
        "    print(\"not above ten\")\n",
        "\n",
        "\n"
      ]
    },
    {
      "cell_type": "markdown",
      "source": [
        "Example 1"
      ],
      "metadata": {
        "id": "CQPOJkW8gEs7"
      }
    },
    {
      "cell_type": "code",
      "source": [
        "age = int(input(\"enter age\"))\n",
        "if age >=18:\n",
        "  print(\"qualified to vote!\")\n",
        "else:\n",
        "      print(\"not qualified to vote\")"
      ],
      "metadata": {
        "id": "a8wVLZBdDCxm",
        "outputId": "43d97a10-f5cb-456f-bb9c-d8fd2aca489c",
        "colab": {
          "base_uri": "https://localhost:8080/"
        }
      },
      "execution_count": 7,
      "outputs": [
        {
          "output_type": "stream",
          "name": "stdout",
          "text": [
            "enter age21\n",
            "qualified to vote!\n"
          ]
        }
      ]
    },
    {
      "cell_type": "markdown",
      "source": [
        "Example 2"
      ],
      "metadata": {
        "id": "_wvLyIrnD9xR"
      }
    },
    {
      "cell_type": "code",
      "source": [
        "number = int(input(\"enter number\"))\n",
        "if number>0:\n",
        "   print(\"positive\")\n",
        "elif number<0:\n",
        "   print(\"negative\")\n",
        "else:\n",
        "   print(\"ZERO\")\n"
      ],
      "metadata": {
        "id": "MkNCWzZAEBw6",
        "outputId": "68eec2a1-6f17-4554-8b9c-2382480ce9e3",
        "colab": {
          "base_uri": "https://localhost:8080/"
        }
      },
      "execution_count": 13,
      "outputs": [
        {
          "output_type": "stream",
          "name": "stdout",
          "text": [
            "enter number0\n",
            "ZERO\n"
          ]
        }
      ]
    },
    {
      "cell_type": "markdown",
      "source": [
        "Example 3"
      ],
      "metadata": {
        "id": "RhPjwAa4G6dT"
      }
    },
    {
      "cell_type": "code",
      "source": [
        "print(\"enter grade\")\n",
        "x = int(input())\n",
        "a = 0\n",
        "if x>74:\n",
        "  print(\"passed\")\n",
        "elif x==74:\n",
        "  print(\"remedial\")\n",
        "elif x<0:\n",
        "  print(\"not accepted\")\n",
        "else:\n",
        "  print(\"failed\")\n"
      ],
      "metadata": {
        "id": "2InRlYyMG8wi",
        "outputId": "fca7fec7-6f02-40d5-dbf8-0792c1d42dc8",
        "colab": {
          "base_uri": "https://localhost:8080/"
        }
      },
      "execution_count": 17,
      "outputs": [
        {
          "output_type": "stream",
          "name": "stdout",
          "text": [
            "enter grade\n",
            "0\n",
            "failed\n"
          ]
        }
      ]
    }
  ]
}