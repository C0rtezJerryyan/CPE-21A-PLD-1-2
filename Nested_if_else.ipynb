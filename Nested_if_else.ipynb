{
  "nbformat": 4,
  "nbformat_minor": 0,
  "metadata": {
    "colab": {
      "provenance": [],
      "authorship_tag": "ABX9TyMyqb7lKNcLj/I/L3DmSnJX",
      "include_colab_link": true
    },
    "kernelspec": {
      "name": "python3",
      "display_name": "Python 3"
    },
    "language_info": {
      "name": "python"
    }
  },
  "cells": [
    {
      "cell_type": "markdown",
      "metadata": {
        "id": "view-in-github",
        "colab_type": "text"
      },
      "source": [
        "<a href=\"https://colab.research.google.com/github/C0rtezJerryyan/CPE-21A-PLD-1-2/blob/main/Nested_if_else.ipynb\" target=\"_parent\"><img src=\"https://colab.research.google.com/assets/colab-badge.svg\" alt=\"Open In Colab\"/></a>"
      ]
    },
    {
      "cell_type": "markdown",
      "source": [
        "Nested If else"
      ],
      "metadata": {
        "id": "bOuLffSqfG5_"
      }
    },
    {
      "cell_type": "code",
      "execution_count": 1,
      "metadata": {
        "id": "53frrqkRd0AG",
        "outputId": "671befa8-f965-487e-aaff-8cbe93559d15",
        "colab": {
          "base_uri": "https://localhost:8080/"
        }
      },
      "outputs": [
        {
          "output_type": "stream",
          "name": "stdout",
          "text": [
            "above ten\n",
            "above twenty\n",
            "above thirty\n",
            "above forty\n",
            "below fifty\n"
          ]
        }
      ],
      "source": [
        "x = 41\n",
        "if x>10:\n",
        "    print(\"above ten\")\n",
        "    if x>20:\n",
        "      print(\"above twenty\")\n",
        "    else:\n",
        "      print(\"below twenty\")\n",
        "    if x>30:\n",
        "      print(\"above thirty\")\n",
        "    else:\n",
        "      print(\"below thirty\")\n",
        "    if x>40:\n",
        "      print(\"above forty\")\n",
        "    else:\n",
        "      print(\"below forty\")\n",
        "    if x>50:\n",
        "      print(\"above fifty\")\n",
        "    else:\n",
        "      print(\"below fifty\")\n",
        "else:\n",
        "    print(\"not above ten\")\n",
        "\n",
        "\n"
      ]
    },
    {
      "cell_type": "markdown",
      "source": [],
      "metadata": {
        "id": "CQPOJkW8gEs7"
      }
    }
  ]
}