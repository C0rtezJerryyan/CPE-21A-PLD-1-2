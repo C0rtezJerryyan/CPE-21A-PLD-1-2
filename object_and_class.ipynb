{
  "nbformat": 4,
  "nbformat_minor": 0,
  "metadata": {
    "colab": {
      "provenance": [],
      "authorship_tag": "ABX9TyPcD/NK/pthKutHKyYD9kpl",
      "include_colab_link": true
    },
    "kernelspec": {
      "name": "python3",
      "display_name": "Python 3"
    },
    "language_info": {
      "name": "python"
    }
  },
  "cells": [
    {
      "cell_type": "markdown",
      "metadata": {
        "id": "view-in-github",
        "colab_type": "text"
      },
      "source": [
        "<a href=\"https://colab.research.google.com/github/C0rtezJerryyan/CPE-21A-PLD-1-2/blob/main/object_and_class.ipynb\" target=\"_parent\"><img src=\"https://colab.research.google.com/assets/colab-badge.svg\" alt=\"Open In Colab\"/></a>"
      ]
    },
    {
      "cell_type": "markdown",
      "source": [],
      "metadata": {
        "id": "sFPI9akisnST"
      }
    },
    {
      "cell_type": "code",
      "source": [
        "from types import prepare_class\n",
        "#Creating class and object\n",
        "\n",
        "class Person:                                            #creating class named as person\n",
        "  def __init__(self,name,age,birthdate):\n",
        "    self.name = name\n",
        "    self.age = age\n",
        "    self.birthdate = birthdate \n",
        "person = Person(\"Jerryyan\",19,\"September 9, 2003\")                           #creating object name person\n",
        "print(person.name)\n",
        "print(person.age)\n",
        "print(person.birthdate)\n",
        "\n",
        "class Student(Person):\n",
        "  pass\n",
        "\n",
        "person2 = Student(\"Godwin\",18,\"March 10, 2004\")\n",
        "print(person2.name) \n",
        "print(person2.age)\n",
        "print(person2.birthdate)\n",
        "\n",
        "class Student(person):\n",
        " pass\n",
        " \n",
        " person3 = Student(\"Kben\",14,\"June 17, 2007\")\n",
        " print(person3.name)\n",
        " print(person3.age)\n",
        " print(person3.birthdate)\n",
        "\n",
        " class Student(Person):\n",
        "   pass\n",
        "\n",
        "   person4 = Student(\"Wilna\",12,\"January 26, 2011\")\n",
        "   print(person4.name)\n",
        "   print(person4.age)\n",
        "   print(person4.birthdate)\n"
      ],
      "metadata": {
        "colab": {
          "base_uri": "https://localhost:8080/"
        },
        "id": "tej11ng-szl0",
        "outputId": "7bbf4ce1-1f41-43e3-9962-ceeb3a7826bf"
      },
      "execution_count": 113,
      "outputs": [
        {
          "output_type": "stream",
          "name": "stdout",
          "text": [
            "Jerryyan\n",
            "19\n",
            "September 9, 2003\n",
            "Godwin\n",
            "18\n",
            "March 10, 2004\n",
            "Kben\n",
            "14\n",
            "June 17, 2007\n",
            "Wilna\n",
            "12\n",
            "January 26, 2011\n"
          ]
        }
      ]
    },
    {
      "cell_type": "code",
      "source": [
        "class Person:\n",
        "  def __init__(self,name,age,birthdate):                #object and class constructor\n",
        "    self.name = name\n",
        "    self.age = age\n",
        "    self.birthdate = birthdate\n",
        "\n",
        "  def info(self):\n",
        "    return \"My personal info are all here\"              #method constructor\n",
        "\n",
        "person = Person(\"Jerryyan\",19,\"September 9,2003\")       #naming object\n",
        "print(person.info())"
      ],
      "metadata": {
        "colab": {
          "base_uri": "https://localhost:8080/"
        },
        "id": "FxZ-wsmp0PVW",
        "outputId": "7a479294-8196-4eae-dbb1-642d78c3771e"
      },
      "execution_count": 56,
      "outputs": [
        {
          "output_type": "stream",
          "name": "stdout",
          "text": [
            "My personal info are all here\n"
          ]
        }
      ]
    },
    {
      "cell_type": "markdown",
      "source": [
        "#exercise 1\n",
        "\n"
      ],
      "metadata": {
        "id": "Q8wE28cf1hLF"
      }
    },
    {
      "cell_type": "code",
      "source": [
        "class Shape:\n",
        "  def __init__(self):\n",
        "   self.length = l\n",
        "   self.width = w\n",
        "\n",
        "class Rectangle(Shape):\n",
        "  def __init__(self,length,width):\n",
        "    self.length = length\n",
        "    self.width = width\n",
        "    \n",
        "  def perimeter(self):\n",
        "    return 2*(self.length + self.width)\n",
        "  def area(self):\n",
        "    return self.length * self.width\n",
        "\n",
        "rectangle = Rectangle(121213, 1423423)\n",
        "print(rectangle.length)\n",
        "print(rectangle.width)\n",
        "print(rectangle.perimeter())\n",
        "print(rectangle.area())"
      ],
      "metadata": {
        "colab": {
          "base_uri": "https://localhost:8080/"
        },
        "id": "U3NGuuUIMy9J",
        "outputId": "0103d5db-65a4-4969-a137-4e0378bb204f"
      },
      "execution_count": 156,
      "outputs": [
        {
          "output_type": "stream",
          "name": "stdout",
          "text": [
            "121213\n",
            "1423423\n",
            "3089272\n",
            "172537372099\n"
          ]
        }
      ]
    },
    {
      "cell_type": "code",
      "source": [
        "v\\"
      ],
      "metadata": {
        "id": "Vnp3P_KDLQkb"
      },
      "execution_count": 133,
      "outputs": []
    },
    {
      "cell_type": "code",
      "source": [],
      "metadata": {
        "id": "5EqjTZ19LElQ"
      },
      "execution_count": null,
      "outputs": []
    },
    {
      "cell_type": "code",
      "source": [],
      "metadata": {
        "id": "juoZ4xD17hi5"
      },
      "execution_count": null,
      "outputs": []
    },
    {
      "cell_type": "markdown",
      "source": [],
      "metadata": {
        "id": "9jfuIwnQFZd7"
      }
    }
  ]
}